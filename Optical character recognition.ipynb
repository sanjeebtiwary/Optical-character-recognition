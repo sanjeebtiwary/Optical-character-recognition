{
 "cells": [
  {
   "cell_type": "code",
   "execution_count": 1,
   "id": "8cb6d1ca",
   "metadata": {},
   "outputs": [
    {
     "name": "stdout",
     "output_type": "stream",
     "text": [
      "\n",
      "Note: you may need to restart the kernel to use updated packages.\n"
     ]
    },
    {
     "name": "stderr",
     "output_type": "stream",
     "text": [
      "WARNING conda.exceptions:print_unexpected_error_report(1240): KeyError('pkgs_dirs')\n",
      "Traceback (most recent call last):\n",
      "  File \"C:\\Users\\KIIT\\anaconda3\\lib\\site-packages\\conda\\exceptions.py\", line 1118, in __call__\n",
      "    return func(*args, **kwargs)\n",
      "  File \"C:\\Users\\KIIT\\anaconda3\\lib\\site-packages\\conda\\cli\\main.py\", line 69, in main_subshell\n",
      "    exit_code = do_call(args, p)\n",
      "  File \"C:\\Users\\KIIT\\anaconda3\\lib\\site-packages\\conda\\cli\\conda_argparse.py\", line 91, in do_call\n",
      "    return getattr(module, func_name)(args, parser)\n",
      "  File \"C:\\Users\\KIIT\\anaconda3\\lib\\site-packages\\conda\\notices\\core.py\", line 97, in wrapper\n",
      "    if is_channel_notices_enabled(context) and is_channel_notices_cache_expired():\n",
      "  File \"C:\\Users\\KIIT\\anaconda3\\lib\\site-packages\\conda\\notices\\core.py\", line 188, in is_channel_notices_cache_expired\n",
      "    cache_file = cache.get_notices_cache_file()\n",
      "  File \"C:\\Users\\KIIT\\anaconda3\\lib\\site-packages\\conda\\notices\\cache.py\", line 77, in get_notices_cache_file\n",
      "    cache_dir = get_notices_cache_dir()\n",
      "  File \"C:\\Users\\KIIT\\anaconda3\\lib\\site-packages\\conda\\utils.py\", line 499, in wrapper\n",
      "    result = func(*args, **kwargs)\n",
      "  File \"C:\\Users\\KIIT\\anaconda3\\lib\\site-packages\\conda\\notices\\cache.py\", line 70, in get_notices_cache_dir\n",
      "    cache_dir = user_cache_dir(APP_NAME, appauthor=APP_NAME)\n",
      "  File \"C:\\Users\\KIIT\\anaconda3\\lib\\site-packages\\conda\\_vendor\\appdirs.py\", line 155, in user_cache_dir\n",
      "    path = os.path.join(_get_win_folder(\"CSIDL_LOCAL_APPDATA\"),\n",
      "  File \"C:\\Users\\KIIT\\anaconda3\\lib\\site-packages\\conda\\_vendor\\appdirs.py\", line 265, in _get_win_folder_with_pywin32\n",
      "    from win32com.shell import shellcon, shell\n",
      "ImportError: DLL load failed while importing shell: The specified procedure could not be found.\n",
      "\n",
      "During handling of the above exception, another exception occurred:\n",
      "\n",
      "Traceback (most recent call last):\n",
      "  File \"C:\\Users\\KIIT\\anaconda3\\lib\\site-packages\\conda\\exceptions.py\", line 1238, in print_unexpected_error_report\n",
      "    message_builder.append(get_main_info_str(error_report['conda_info']))\n",
      "  File \"C:\\Users\\KIIT\\anaconda3\\lib\\site-packages\\conda\\cli\\main_info.py\", line 236, in get_main_info_str\n",
      "    info_dict['_' + key] = ('\\n' + 26 * ' ').join(info_dict[key])\n",
      "KeyError: 'pkgs_dirs'\n",
      "\n",
      "# >>>>>>>>>>>>>>>>>>>>>> ERROR REPORT <<<<<<<<<<<<<<<<<<<<<<\n",
      "\n",
      "    Traceback (most recent call last):\n",
      "      File \"C:\\Users\\KIIT\\anaconda3\\lib\\site-packages\\conda\\exceptions.py\", line 1118, in __call__\n",
      "        return func(*args, **kwargs)\n",
      "      File \"C:\\Users\\KIIT\\anaconda3\\lib\\site-packages\\conda\\cli\\main.py\", line 69, in main_subshell\n",
      "        exit_code = do_call(args, p)\n",
      "      File \"C:\\Users\\KIIT\\anaconda3\\lib\\site-packages\\conda\\cli\\conda_argparse.py\", line 91, in do_call\n",
      "        return getattr(module, func_name)(args, parser)\n",
      "      File \"C:\\Users\\KIIT\\anaconda3\\lib\\site-packages\\conda\\notices\\core.py\", line 97, in wrapper\n",
      "        if is_channel_notices_enabled(context) and is_channel_notices_cache_expired():\n",
      "      File \"C:\\Users\\KIIT\\anaconda3\\lib\\site-packages\\conda\\notices\\core.py\", line 188, in is_channel_notices_cache_expired\n",
      "        cache_file = cache.get_notices_cache_file()\n",
      "      File \"C:\\Users\\KIIT\\anaconda3\\lib\\site-packages\\conda\\notices\\cache.py\", line 77, in get_notices_cache_file\n",
      "        cache_dir = get_notices_cache_dir()\n",
      "      File \"C:\\Users\\KIIT\\anaconda3\\lib\\site-packages\\conda\\utils.py\", line 499, in wrapper\n",
      "        result = func(*args, **kwargs)\n",
      "      File \"C:\\Users\\KIIT\\anaconda3\\lib\\site-packages\\conda\\notices\\cache.py\", line 70, in get_notices_cache_dir\n",
      "        cache_dir = user_cache_dir(APP_NAME, appauthor=APP_NAME)\n",
      "      File \"C:\\Users\\KIIT\\anaconda3\\lib\\site-packages\\conda\\_vendor\\appdirs.py\", line 155, in user_cache_dir\n",
      "        path = os.path.join(_get_win_folder(\"CSIDL_LOCAL_APPDATA\"),\n",
      "      File \"C:\\Users\\KIIT\\anaconda3\\lib\\site-packages\\conda\\_vendor\\appdirs.py\", line 265, in _get_win_folder_with_pywin32\n",
      "        from win32com.shell import shellcon, shell\n",
      "    ImportError: DLL load failed while importing shell: The specified procedure could not be found.\n",
      "\n",
      "`$ C:\\Users\\KIIT\\anaconda3\\Scripts\\conda-script.py install --yes --prefix C:\\Users\\KIIT\\anaconda3 numpy`\n",
      "\n",
      "  environment variables:\n",
      "conda info could not be constructed.\n",
      "KeyError('pkgs_dirs')\n",
      "\n",
      "An unexpected error has occurred. Conda has prepared the above report.\n",
      "\n",
      "Upload successful.\n"
     ]
    }
   ],
   "source": [
    "conda install numpy"
   ]
  },
  {
   "cell_type": "code",
   "execution_count": 1,
   "id": "4a82d727",
   "metadata": {},
   "outputs": [
    {
     "ename": "ImportError",
     "evalue": "\n\nIMPORTANT: PLEASE READ THIS FOR ADVICE ON HOW TO SOLVE THIS ISSUE!\n\nImporting the numpy C-extensions failed. This error can happen for\nmany reasons, often due to issues with your setup or how NumPy was\ninstalled.\n\nWe have compiled some common reasons and troubleshooting tips at:\n\n    https://numpy.org/devdocs/user/troubleshooting-importerror.html\n\nPlease note and check the following:\n\n  * The Python version is: Python3.9 from \"C:\\Users\\KIIT\\anaconda3\\python.exe\"\n  * The NumPy version is: \"1.24.4\"\n\nand make sure that they are the versions you expect.\nPlease carefully study the documentation linked above for further help.\n\nOriginal error was: DLL load failed while importing _multiarray_umath: The specified module could not be found.\n",
     "output_type": "error",
     "traceback": [
      "\u001b[1;31m---------------------------------------------------------------------------\u001b[0m",
      "\u001b[1;31mImportError\u001b[0m                               Traceback (most recent call last)",
      "File \u001b[1;32m~\\AppData\\Local\\Packages\\PythonSoftwareFoundation.Python.3.9_qbz5n2kfra8p0\\LocalCache\\local-packages\\Python39\\site-packages\\numpy\\core\\__init__.py:23\u001b[0m, in \u001b[0;36m<module>\u001b[1;34m\u001b[0m\n\u001b[0;32m     22\u001b[0m \u001b[38;5;28;01mtry\u001b[39;00m:\n\u001b[1;32m---> 23\u001b[0m     \u001b[38;5;28;01mfrom\u001b[39;00m \u001b[38;5;21;01m.\u001b[39;00m \u001b[38;5;28;01mimport\u001b[39;00m multiarray\n\u001b[0;32m     24\u001b[0m \u001b[38;5;28;01mexcept\u001b[39;00m \u001b[38;5;167;01mImportError\u001b[39;00m \u001b[38;5;28;01mas\u001b[39;00m exc:\n",
      "File \u001b[1;32m~\\AppData\\Local\\Packages\\PythonSoftwareFoundation.Python.3.9_qbz5n2kfra8p0\\LocalCache\\local-packages\\Python39\\site-packages\\numpy\\core\\multiarray.py:10\u001b[0m, in \u001b[0;36m<module>\u001b[1;34m\u001b[0m\n\u001b[0;32m      9\u001b[0m \u001b[38;5;28;01mimport\u001b[39;00m \u001b[38;5;21;01mfunctools\u001b[39;00m\n\u001b[1;32m---> 10\u001b[0m \u001b[38;5;28;01mfrom\u001b[39;00m \u001b[38;5;21;01m.\u001b[39;00m \u001b[38;5;28;01mimport\u001b[39;00m overrides\n\u001b[0;32m     11\u001b[0m \u001b[38;5;28;01mfrom\u001b[39;00m \u001b[38;5;21;01m.\u001b[39;00m \u001b[38;5;28;01mimport\u001b[39;00m _multiarray_umath\n",
      "File \u001b[1;32m~\\AppData\\Local\\Packages\\PythonSoftwareFoundation.Python.3.9_qbz5n2kfra8p0\\LocalCache\\local-packages\\Python39\\site-packages\\numpy\\core\\overrides.py:8\u001b[0m, in \u001b[0;36m<module>\u001b[1;34m\u001b[0m\n\u001b[0;32m      7\u001b[0m \u001b[38;5;28;01mfrom\u001b[39;00m \u001b[38;5;21;01m.\u001b[39;00m\u001b[38;5;21;01m.\u001b[39;00m\u001b[38;5;21;01m_utils\u001b[39;00m\u001b[38;5;21;01m.\u001b[39;00m\u001b[38;5;21;01m_inspect\u001b[39;00m \u001b[38;5;28;01mimport\u001b[39;00m getargspec\n\u001b[1;32m----> 8\u001b[0m \u001b[38;5;28;01mfrom\u001b[39;00m \u001b[38;5;21;01mnumpy\u001b[39;00m\u001b[38;5;21;01m.\u001b[39;00m\u001b[38;5;21;01mcore\u001b[39;00m\u001b[38;5;21;01m.\u001b[39;00m\u001b[38;5;21;01m_multiarray_umath\u001b[39;00m \u001b[38;5;28;01mimport\u001b[39;00m (\n\u001b[0;32m      9\u001b[0m     add_docstring,  _get_implementing_args, _ArrayFunctionDispatcher)\n\u001b[0;32m     12\u001b[0m ARRAY_FUNCTIONS \u001b[38;5;241m=\u001b[39m \u001b[38;5;28mset\u001b[39m()\n",
      "\u001b[1;31mImportError\u001b[0m: DLL load failed while importing _multiarray_umath: The specified module could not be found.",
      "\nDuring handling of the above exception, another exception occurred:\n",
      "\u001b[1;31mImportError\u001b[0m                               Traceback (most recent call last)",
      "Input \u001b[1;32mIn [1]\u001b[0m, in \u001b[0;36m<cell line: 1>\u001b[1;34m()\u001b[0m\n\u001b[1;32m----> 1\u001b[0m \u001b[38;5;28;01mimport\u001b[39;00m \u001b[38;5;21;01mnumpy\u001b[39;00m \u001b[38;5;28;01mas\u001b[39;00m \u001b[38;5;21;01mnp\u001b[39;00m\n\u001b[0;32m      2\u001b[0m \u001b[38;5;28;01mfrom\u001b[39;00m \u001b[38;5;21;01mPIL\u001b[39;00m \u001b[38;5;28;01mimport\u001b[39;00m Image\n\u001b[0;32m      3\u001b[0m \u001b[38;5;28;01mimport\u001b[39;00m \u001b[38;5;21;01mpytesseract\u001b[39;00m\n",
      "File \u001b[1;32m~\\AppData\\Local\\Packages\\PythonSoftwareFoundation.Python.3.9_qbz5n2kfra8p0\\LocalCache\\local-packages\\Python39\\site-packages\\numpy\\__init__.py:141\u001b[0m, in \u001b[0;36m<module>\u001b[1;34m\u001b[0m\n\u001b[0;32m    138\u001b[0m \u001b[38;5;66;03m# Allow distributors to run custom init code\u001b[39;00m\n\u001b[0;32m    139\u001b[0m \u001b[38;5;28;01mfrom\u001b[39;00m \u001b[38;5;21;01m.\u001b[39;00m \u001b[38;5;28;01mimport\u001b[39;00m _distributor_init\n\u001b[1;32m--> 141\u001b[0m \u001b[38;5;28;01mfrom\u001b[39;00m \u001b[38;5;21;01m.\u001b[39;00m \u001b[38;5;28;01mimport\u001b[39;00m core\n\u001b[0;32m    142\u001b[0m \u001b[38;5;28;01mfrom\u001b[39;00m \u001b[38;5;21;01m.\u001b[39;00m\u001b[38;5;21;01mcore\u001b[39;00m \u001b[38;5;28;01mimport\u001b[39;00m \u001b[38;5;241m*\u001b[39m\n\u001b[0;32m    143\u001b[0m \u001b[38;5;28;01mfrom\u001b[39;00m \u001b[38;5;21;01m.\u001b[39;00m \u001b[38;5;28;01mimport\u001b[39;00m compat\n",
      "File \u001b[1;32m~\\AppData\\Local\\Packages\\PythonSoftwareFoundation.Python.3.9_qbz5n2kfra8p0\\LocalCache\\local-packages\\Python39\\site-packages\\numpy\\core\\__init__.py:49\u001b[0m, in \u001b[0;36m<module>\u001b[1;34m\u001b[0m\n\u001b[0;32m     25\u001b[0m     \u001b[38;5;28;01mimport\u001b[39;00m \u001b[38;5;21;01msys\u001b[39;00m\n\u001b[0;32m     26\u001b[0m     msg \u001b[38;5;241m=\u001b[39m \u001b[38;5;124m\"\"\"\u001b[39m\n\u001b[0;32m     27\u001b[0m \n\u001b[0;32m     28\u001b[0m \u001b[38;5;124mIMPORTANT: PLEASE READ THIS FOR ADVICE ON HOW TO SOLVE THIS ISSUE!\u001b[39m\n\u001b[1;32m   (...)\u001b[0m\n\u001b[0;32m     47\u001b[0m \u001b[38;5;124m\"\"\"\u001b[39m \u001b[38;5;241m%\u001b[39m (sys\u001b[38;5;241m.\u001b[39mversion_info[\u001b[38;5;241m0\u001b[39m], sys\u001b[38;5;241m.\u001b[39mversion_info[\u001b[38;5;241m1\u001b[39m], sys\u001b[38;5;241m.\u001b[39mexecutable,\n\u001b[0;32m     48\u001b[0m         __version__, exc)\n\u001b[1;32m---> 49\u001b[0m     \u001b[38;5;28;01mraise\u001b[39;00m \u001b[38;5;167;01mImportError\u001b[39;00m(msg)\n\u001b[0;32m     50\u001b[0m \u001b[38;5;28;01mfinally\u001b[39;00m:\n\u001b[0;32m     51\u001b[0m     \u001b[38;5;28;01mfor\u001b[39;00m envkey \u001b[38;5;129;01min\u001b[39;00m env_added:\n",
      "\u001b[1;31mImportError\u001b[0m: \n\nIMPORTANT: PLEASE READ THIS FOR ADVICE ON HOW TO SOLVE THIS ISSUE!\n\nImporting the numpy C-extensions failed. This error can happen for\nmany reasons, often due to issues with your setup or how NumPy was\ninstalled.\n\nWe have compiled some common reasons and troubleshooting tips at:\n\n    https://numpy.org/devdocs/user/troubleshooting-importerror.html\n\nPlease note and check the following:\n\n  * The Python version is: Python3.9 from \"C:\\Users\\KIIT\\anaconda3\\python.exe\"\n  * The NumPy version is: \"1.24.4\"\n\nand make sure that they are the versions you expect.\nPlease carefully study the documentation linked above for further help.\n\nOriginal error was: DLL load failed while importing _multiarray_umath: The specified module could not be found.\n"
     ]
    }
   ],
   "source": [
    "import numpy as np\n",
    "from PIL import Image\n",
    "import pytesseract\n",
    "\n",
    "filename = 'image_01.png'\n",
    "img1 = np.array(Image.open(filename))\n",
    "text = pytesseract.image_to_string(img1)"
   ]
  },
  {
   "cell_type": "code",
   "execution_count": 2,
   "id": "02ae6a39",
   "metadata": {},
   "outputs": [
    {
     "name": "stdout",
     "output_type": "stream",
     "text": [
      "PYTHONPATH: D:\\Project\\Optical character recognition\n",
      "PATH: C:\\Program Files\\Common Files\\Oracle\\Java\\javapath;C:\\Program Files (x86)\\Razer\\ChromaBroadcast\\bin;C:\\Program Files\\Razer\\ChromaBroadcast\\bin;C:\\oraclexe\\app\\oracle\\product\\11.2.0\\server\\bin;C:\\WINDOWS\\system32;C:\\WINDOWS;C:\\WINDOWS\\System32\\Wbem;C:\\WINDOWS\\System32\\WindowsPowerShell\\v1.0\\;C:\\WINDOWS\\System32\\OpenSSH\\;C:\\Program Files\\dotnet\\;C:\\Program Files\\Amazon\\AWSCLIV2\\;C:\\Program Files\\Microsoft SQL Server\\150\\Tools\\Binn\\;C:\\Program Files\\Java\\jdk-19\\bin;C:\\Program Files\\Git LFS;C:\\WINDOWS\\system32\\config\\systemprofile\\AppData\\Local\\Microsoft\\WindowsApps;C:\\Program Files (x86)\\Microsoft SQL Server\\160\\DTS\\Binn\\;C:\\Program Files\\Azure Data Studio\\bin;D:\\Project\\Priyanka-Dey-LLM\\bin;D:\\Project\\Priyanka-Dey-LLM\\ollama\\bin;C:\\Program Files\\Docker\\Docker\\resources\\bin;C:\\Program Files\\PowerShell\\7\\;D:\\bin;C:\\Program Files (x86)\\nodejs\\;C:\\Program Files\\Git\\cmd;C:\\Program Files\\PowerShell\\7-preview\\preview;C:\\Users\\KIIT\\AppData\\Local\\Programs\\Python\\Python311\\Scripts\\;D:\\jdk-21.0.1\\bin;C:\\Users\\KIIT\\AppData\\Local\\Programs\\Python\\Python311\\;C:\\Users\\KIIT\\anaconda3;C:\\Users\\KIIT\\anaconda3\\Library\\mingw-w64\\bin;C:\\Users\\KIIT\\anaconda3\\Library\\usr\\bin;C:\\Users\\KIIT\\anaconda3\\Library\\bin;C:\\Users\\KIIT\\anaconda3\\Scripts;C:\\Users\\KIIT\\AppData\\Local\\Programs\\Python\\Python310\\Scripts\\;C:\\Users\\KIIT\\AppData\\Local\\Programs\\Python\\Python310\\;C:\\Users\\KIIT\\AppData\\Local\\Microsoft\\WindowsApps;C:\\Program Files\\JetBrains\\PyCharm Community Edition 2022.2.2\\bin;C:\\Program Files\\JetBrains\\IntelliJ IDEA Community Edition 2021.3.2\\bin;D:\\Java\\IntelliJ IDEA Educational Edition 2021.3.2\\bin;C:\\Users\\KIIT\\AppData\\Local\\JetBrains\\PhpStorm 2021.3.2\\bin;C:\\Users\\KIIT\\AppData\\Local\\GitHubDesktop\\bin;C:\\Users\\KIIT\\.dotnet\\tools;C:\\Program Files\\JetBrains\\PyCharm 2023.2\\bin;C:\\Program Files\\JetBrains\\DataSpell 2022.2\\bin;C:\\Program Files\\JetBrains\\DataGrip 2022.2.5\\bin;C:\\Program Files\\JetBrains\\JetBrains Rider 2022.2.3\\bin;C:\\Program Files (x86)\\MongoDB Atlas CLI\\;C:\\msys64\\mingw64\\bin;C:\\Program Files\\JetBrains\\JetBrains Gateway 2023.2.1\\bin;C:\\Users\\KIIT\\AppData\\Local\\JetBrains\\Toolbox\\scripts;C:\\Program Files\\Azure Data Studio\\bin;C:\\Users\\KIIT\\AppData\\Local\\Programs\\Microsoft VS Code\\bin;C:\\Users\\KIIT\\.dotnet\\tools;C:\\Users\\KIIT\\go\\bin;D:\\IntelliJ IDEA 2023.3.2\\bin;;C:\\Users\\KIIT\\AppData\\Roaming\\npm\n"
     ]
    }
   ],
   "source": [
    "import os\n",
    "print(\"PYTHONPATH:\", os.environ.get('PYTHONPATH'))\n",
    "print(\"PATH:\", os.environ.get('PATH'))"
   ]
  },
  {
   "cell_type": "code",
   "execution_count": 3,
   "id": "2ee232be",
   "metadata": {},
   "outputs": [
    {
     "name": "stdout",
     "output_type": "stream",
     "text": [
      "Requirement already satisfied: numpy in c:\\users\\kiit\\appdata\\local\\programs\\python\\python311\\lib\\site-packages (1.26.4)\n"
     ]
    }
   ],
   "source": [
    "!pip install numpy --upgrade"
   ]
  },
  {
   "cell_type": "code",
   "execution_count": null,
   "id": "d0b24c1f",
   "metadata": {},
   "outputs": [],
   "source": []
  }
 ],
 "metadata": {
  "kernelspec": {
   "display_name": "Python 3 (ipykernel)",
   "language": "python",
   "name": "python3"
  },
  "language_info": {
   "codemirror_mode": {
    "name": "ipython",
    "version": 3
   },
   "file_extension": ".py",
   "mimetype": "text/x-python",
   "name": "python",
   "nbconvert_exporter": "python",
   "pygments_lexer": "ipython3",
   "version": "3.9.12"
  }
 },
 "nbformat": 4,
 "nbformat_minor": 5
}
